{
  "cells": [
    {
      "cell_type": "code",
      "execution_count": 1,
      "metadata": {},
      "outputs": [
        {
          "name": "stdout",
          "output_type": "stream",
          "text": [
            "Defaulting to user installation because normal site-packages is not writeable\n",
            "Requirement already satisfied: pandas in c:\\program files\\python313\\lib\\site-packages (2.3.0)\n",
            "Requirement already satisfied: numpy>=1.26.0 in c:\\program files\\python313\\lib\\site-packages (from pandas) (2.3.1)\n",
            "Requirement already satisfied: python-dateutil>=2.8.2 in c:\\program files\\python313\\lib\\site-packages (from pandas) (2.9.0.post0)\n",
            "Requirement already satisfied: pytz>=2020.1 in c:\\program files\\python313\\lib\\site-packages (from pandas) (2025.2)\n",
            "Requirement already satisfied: tzdata>=2022.7 in c:\\program files\\python313\\lib\\site-packages (from pandas) (2025.2)\n",
            "Requirement already satisfied: six>=1.5 in c:\\program files\\python313\\lib\\site-packages (from python-dateutil>=2.8.2->pandas) (1.17.0)\n"
          ]
        }
      ],
      "source": [
        "!pip install pandas"
      ]
    },
    {
      "cell_type": "markdown",
      "metadata": {
        "id": "cCdlyV4DQ_Hg"
      },
      "source": [
        "***EDA*** \n",
        "\n",
        "    # Handling Missing Values"
      ]
    },
    {
      "cell_type": "code",
      "execution_count": 1,
      "metadata": {
        "id": "_9925sRTOWrq"
      },
      "outputs": [],
      "source": [
        "import pandas as pd\n",
        "import numpy as np\n",
        "import matplotlib.pyplot as plt"
      ]
    },
    {
      "cell_type": "code",
      "execution_count": 3,
      "metadata": {
        "id": "FRf2GzX_PSTu"
      },
      "outputs": [],
      "source": [
        "df = pd.read_csv('data/RealEstateDataset.csv', sep=';')"
      ]
    },
    {
      "cell_type": "code",
      "execution_count": null,
      "metadata": {},
      "outputs": [
        {
          "data": {
            "text/html": [
              "<div>\n",
              "<style scoped>\n",
              "    .dataframe tbody tr th:only-of-type {\n",
              "        vertical-align: middle;\n",
              "    }\n",
              "\n",
              "    .dataframe tbody tr th {\n",
              "        vertical-align: top;\n",
              "    }\n",
              "\n",
              "    .dataframe thead th {\n",
              "        text-align: right;\n",
              "    }\n",
              "</style>\n",
              "<table border=\"1\" class=\"dataframe\">\n",
              "  <thead>\n",
              "    <tr style=\"text-align: right;\">\n",
              "      <th></th>\n",
              "      <th>name_nsi</th>\n",
              "      <th>price</th>\n",
              "      <th>index</th>\n",
              "      <th>environment</th>\n",
              "      <th>quality_of_living</th>\n",
              "      <th>safety</th>\n",
              "      <th>transport</th>\n",
              "      <th>services</th>\n",
              "      <th>relax</th>\n",
              "      <th>condition</th>\n",
              "      <th>...</th>\n",
              "      <th>last_reconstruction</th>\n",
              "      <th>total_floors</th>\n",
              "      <th>floor</th>\n",
              "      <th>lift</th>\n",
              "      <th>balkonies</th>\n",
              "      <th>loggia</th>\n",
              "      <th>cellar</th>\n",
              "      <th>type</th>\n",
              "      <th>rooms</th>\n",
              "      <th>district</th>\n",
              "    </tr>\n",
              "  </thead>\n",
              "  <tbody>\n",
              "    <tr>\n",
              "      <th>14833</th>\n",
              "      <td>Banská Bystrica</td>\n",
              "      <td>159000</td>\n",
              "      <td>NaN</td>\n",
              "      <td>NaN</td>\n",
              "      <td>NaN</td>\n",
              "      <td>NaN</td>\n",
              "      <td>NaN</td>\n",
              "      <td>NaN</td>\n",
              "      <td>NaN</td>\n",
              "      <td>New building</td>\n",
              "      <td>...</td>\n",
              "      <td>NaN</td>\n",
              "      <td>NaN</td>\n",
              "      <td>NaN</td>\n",
              "      <td>1</td>\n",
              "      <td>NaN</td>\n",
              "      <td>NaN</td>\n",
              "      <td>0</td>\n",
              "      <td>2-room apartment</td>\n",
              "      <td>2</td>\n",
              "      <td>Banská Bystrica</td>\n",
              "    </tr>\n",
              "    <tr>\n",
              "      <th>12118</th>\n",
              "      <td>Poprad</td>\n",
              "      <td>74990</td>\n",
              "      <td>NaN</td>\n",
              "      <td>NaN</td>\n",
              "      <td>NaN</td>\n",
              "      <td>NaN</td>\n",
              "      <td>NaN</td>\n",
              "      <td>NaN</td>\n",
              "      <td>NaN</td>\n",
              "      <td>Partial reconstruction</td>\n",
              "      <td>...</td>\n",
              "      <td>NaN</td>\n",
              "      <td>10.0</td>\n",
              "      <td>7.0</td>\n",
              "      <td>1</td>\n",
              "      <td>NaN</td>\n",
              "      <td>NaN</td>\n",
              "      <td>0</td>\n",
              "      <td>1-room apartment</td>\n",
              "      <td>1</td>\n",
              "      <td>Poprad</td>\n",
              "    </tr>\n",
              "    <tr>\n",
              "      <th>2748</th>\n",
              "      <td>Bratislava - mestská časť Podunajské Biskupice</td>\n",
              "      <td>168000</td>\n",
              "      <td>7,9</td>\n",
              "      <td>7,2</td>\n",
              "      <td>9,7</td>\n",
              "      <td>8</td>\n",
              "      <td>9,3</td>\n",
              "      <td>7,9</td>\n",
              "      <td>5</td>\n",
              "      <td>Complete reconstruction</td>\n",
              "      <td>...</td>\n",
              "      <td>2022.0</td>\n",
              "      <td>3.0</td>\n",
              "      <td>NaN</td>\n",
              "      <td>0</td>\n",
              "      <td>NaN</td>\n",
              "      <td>NaN</td>\n",
              "      <td>0</td>\n",
              "      <td>3-room apartment</td>\n",
              "      <td>3</td>\n",
              "      <td>Bratislava II</td>\n",
              "    </tr>\n",
              "  </tbody>\n",
              "</table>\n",
              "<p>3 rows × 27 columns</p>\n",
              "</div>"
            ],
            "text/plain": [
              "                                             name_nsi   price index  \\\n",
              "14833                                 Banská Bystrica  159000   NaN   \n",
              "12118                                          Poprad   74990   NaN   \n",
              "2748   Bratislava - mestská časť Podunajské Biskupice  168000   7,9   \n",
              "\n",
              "      environment quality_of_living safety transport services relax  \\\n",
              "14833         NaN               NaN    NaN       NaN      NaN   NaN   \n",
              "12118         NaN               NaN    NaN       NaN      NaN   NaN   \n",
              "2748          7,2               9,7      8       9,3      7,9     5   \n",
              "\n",
              "                     condition  ... last_reconstruction  total_floors  floor  \\\n",
              "14833             New building  ...                 NaN           NaN    NaN   \n",
              "12118   Partial reconstruction  ...                 NaN          10.0    7.0   \n",
              "2748   Complete reconstruction  ...              2022.0           3.0    NaN   \n",
              "\n",
              "      lift balkonies loggia  cellar              type  rooms         district  \n",
              "14833    1       NaN    NaN       0  2-room apartment      2  Banská Bystrica  \n",
              "12118    1       NaN    NaN       0  1-room apartment      1           Poprad  \n",
              "2748     0       NaN    NaN       0  3-room apartment      3    Bratislava II  \n",
              "\n",
              "[3 rows x 27 columns]"
            ]
          },
          "execution_count": 13,
          "metadata": {},
          "output_type": "execute_result"
        }
      ],
      "source": [
        "df[\"Cre\"]"
      ]
    },
    {
      "cell_type": "code",
      "execution_count": 40,
      "metadata": {
        "colab": {
          "base_uri": "https://localhost:8080/"
        },
        "id": "RT-kIO4WPUr-",
        "outputId": "625d9077-4e38-4fe1-9157-8fedde1574de"
      },
      "outputs": [
        {
          "name": "stdout",
          "output_type": "stream",
          "text": [
            "<class 'pandas.core.frame.DataFrame'>\n",
            "RangeIndex: 15403 entries, 0 to 15402\n",
            "Data columns (total 27 columns):\n",
            " #   Column               Non-Null Count  Dtype  \n",
            "---  ------               --------------  -----  \n",
            " 0   name_nsi             15403 non-null  object \n",
            " 1   price                15403 non-null  int64  \n",
            " 2   index                5162 non-null   object \n",
            " 3   environment          4132 non-null   object \n",
            " 4   quality_of_living    4132 non-null   object \n",
            " 5   safety               4132 non-null   object \n",
            " 6   transport            4132 non-null   object \n",
            " 7   services             4132 non-null   object \n",
            " 8   relax                4132 non-null   object \n",
            " 9   condition            15076 non-null  object \n",
            " 10  area                 14687 non-null  object \n",
            " 11  energy_costs         980 non-null    float64\n",
            " 12  provision            15403 non-null  int64  \n",
            " 13  certificate          6445 non-null   object \n",
            " 14  construction_type    2367 non-null   object \n",
            " 15  orientation          1023 non-null   object \n",
            " 16  year_built           3878 non-null   float64\n",
            " 17  last_reconstruction  682 non-null    float64\n",
            " 18  total_floors         7286 non-null   float64\n",
            " 19  floor                8316 non-null   float64\n",
            " 20  lift                 15403 non-null  int64  \n",
            " 21  balkonies            1767 non-null   float64\n",
            " 22  loggia               1520 non-null   float64\n",
            " 23  cellar               15403 non-null  int64  \n",
            " 24  type                 15403 non-null  object \n",
            " 25  rooms                15403 non-null  int64  \n",
            " 26  district             15403 non-null  object \n",
            "dtypes: float64(7), int64(5), object(15)\n",
            "memory usage: 3.2+ MB\n"
          ]
        }
      ],
      "source": [
        "df.info()"
      ]
    },
    {
      "cell_type": "markdown",
      "metadata": {
        "id": "IeVL3C4vPe8p"
      },
      "source": [
        "#### The second way of finding  null values\n",
        "    # by using the isnull() function."
      ]
    },
    {
      "cell_type": "code",
      "execution_count": 41,
      "metadata": {
        "colab": {
          "base_uri": "https://localhost:8080/"
        },
        "id": "DMD55QYiPXV-",
        "outputId": "d62cc121-cfef-4bcb-a51c-66a927029f09"
      },
      "outputs": [
        {
          "name": "stdout",
          "output_type": "stream",
          "text": [
            "name_nsi                   0\n",
            "price                      0\n",
            "index                  10241\n",
            "environment            11271\n",
            "quality_of_living      11271\n",
            "safety                 11271\n",
            "transport              11271\n",
            "services               11271\n",
            "relax                  11271\n",
            "condition                327\n",
            "area                     716\n",
            "energy_costs           14423\n",
            "provision                  0\n",
            "certificate             8958\n",
            "construction_type      13036\n",
            "orientation            14380\n",
            "year_built             11525\n",
            "last_reconstruction    14721\n",
            "total_floors            8117\n",
            "floor                   7087\n",
            "lift                       0\n",
            "balkonies              13636\n",
            "loggia                 13883\n",
            "cellar                     0\n",
            "type                       0\n",
            "rooms                      0\n",
            "district                   0\n",
            "dtype: int64\n"
          ]
        }
      ],
      "source": [
        "print(df.isnull().sum())"
      ]
    },
    {
      "cell_type": "code",
      "execution_count": 8,
      "metadata": {},
      "outputs": [
        {
          "data": {
            "text/plain": [
              "10000"
            ]
          },
          "execution_count": 8,
          "metadata": {},
          "output_type": "execute_result"
        }
      ],
      "source": [
        "9939+61"
      ]
    },
    {
      "cell_type": "markdown",
      "metadata": {
        "id": "z1VRuOO3PpR6"
      },
      "source": [
        "## Handling Missing Values\n",
        "\n",
        "***1. Deleting the columns with missing data***"
      ]
    },
    {
      "cell_type": "code",
      "execution_count": 42,
      "metadata": {
        "id": "6njlTqU0Pg9e"
      },
      "outputs": [],
      "source": [
        "updated_df = df.dropna(axis=1)"
      ]
    },
    {
      "cell_type": "code",
      "execution_count": 43,
      "metadata": {
        "colab": {
          "base_uri": "https://localhost:8080/"
        },
        "id": "ggaWrQ8pP0f3",
        "outputId": "d831d223-dbdb-43c1-cc03-86d8d09d26d5"
      },
      "outputs": [
        {
          "name": "stdout",
          "output_type": "stream",
          "text": [
            "<class 'pandas.core.frame.DataFrame'>\n",
            "RangeIndex: 15403 entries, 0 to 15402\n",
            "Data columns (total 8 columns):\n",
            " #   Column     Non-Null Count  Dtype \n",
            "---  ------     --------------  ----- \n",
            " 0   name_nsi   15403 non-null  object\n",
            " 1   price      15403 non-null  int64 \n",
            " 2   provision  15403 non-null  int64 \n",
            " 3   lift       15403 non-null  int64 \n",
            " 4   cellar     15403 non-null  int64 \n",
            " 5   type       15403 non-null  object\n",
            " 6   rooms      15403 non-null  int64 \n",
            " 7   district   15403 non-null  object\n",
            "dtypes: int64(5), object(3)\n",
            "memory usage: 962.8+ KB\n"
          ]
        }
      ],
      "source": [
        "updated_df.info()"
      ]
    },
    {
      "cell_type": "markdown",
      "metadata": {
        "id": "WvvIRMVKP4qv"
      },
      "source": [
        "## issues factor\n",
        "    # may lose valuable information on that feature, because we have deleted it completely due to some null values.\n",
        "\n",
        "    # Should only be used if there are too many null values."
      ]
    },
    {
      "cell_type": "markdown",
      "metadata": {
        "id": "lkGmuaYZQAcw"
      },
      "source": [
        "***2. Deleting the rows with missing data***"
      ]
    },
    {
      "cell_type": "code",
      "execution_count": 44,
      "metadata": {
        "id": "3s6_Ro5VP0td"
      },
      "outputs": [],
      "source": [
        "updated_df = df.dropna(axis=0)"
      ]
    },
    {
      "cell_type": "code",
      "execution_count": 45,
      "metadata": {
        "colab": {
          "base_uri": "https://localhost:8080/"
        },
        "id": "Tc2jGjHSQFF2",
        "outputId": "2827d56c-6c95-4782-9806-b5a55dbc16dd"
      },
      "outputs": [
        {
          "name": "stdout",
          "output_type": "stream",
          "text": [
            "<class 'pandas.core.frame.DataFrame'>\n",
            "Index: 0 entries\n",
            "Data columns (total 27 columns):\n",
            " #   Column               Non-Null Count  Dtype  \n",
            "---  ------               --------------  -----  \n",
            " 0   name_nsi             0 non-null      object \n",
            " 1   price                0 non-null      int64  \n",
            " 2   index                0 non-null      object \n",
            " 3   environment          0 non-null      object \n",
            " 4   quality_of_living    0 non-null      object \n",
            " 5   safety               0 non-null      object \n",
            " 6   transport            0 non-null      object \n",
            " 7   services             0 non-null      object \n",
            " 8   relax                0 non-null      object \n",
            " 9   condition            0 non-null      object \n",
            " 10  area                 0 non-null      object \n",
            " 11  energy_costs         0 non-null      float64\n",
            " 12  provision            0 non-null      int64  \n",
            " 13  certificate          0 non-null      object \n",
            " 14  construction_type    0 non-null      object \n",
            " 15  orientation          0 non-null      object \n",
            " 16  year_built           0 non-null      float64\n",
            " 17  last_reconstruction  0 non-null      float64\n",
            " 18  total_floors         0 non-null      float64\n",
            " 19  floor                0 non-null      float64\n",
            " 20  lift                 0 non-null      int64  \n",
            " 21  balkonies            0 non-null      float64\n",
            " 22  loggia               0 non-null      float64\n",
            " 23  cellar               0 non-null      int64  \n",
            " 24  type                 0 non-null      object \n",
            " 25  rooms                0 non-null      int64  \n",
            " 26  district             0 non-null      object \n",
            "dtypes: float64(7), int64(5), object(15)\n",
            "memory usage: 0.0+ bytes\n"
          ]
        }
      ],
      "source": [
        "updated_df.info()"
      ]
    },
    {
      "cell_type": "markdown",
      "metadata": {
        "id": "s2Vf6P_tQMSV"
      },
      "source": [
        "## In this case, there are possibilities of getting better accuracy than before.\n",
        "    # columns may contain more valuable information than we expected."
      ]
    },
    {
      "cell_type": "markdown",
      "metadata": {
        "id": "e0vGGR0oQWRj"
      },
      "source": [
        "***3. Filling the Missing Values – Imputation***"
      ]
    },
    {
      "cell_type": "markdown",
      "metadata": {
        "id": "SnviNgdDQeVm"
      },
      "source": [
        "In this case, we will be filling the missing values with a certain number.\n",
        "\n",
        "The possible ways to do this are:\n",
        "\n",
        "- Filling the missing data with the mean or median value if it’s a numerical variable.\n",
        "- Filling the missing data with mode if it’s a categorical value.\n",
        "- Filling the numerical value with 0 or -999, or some other number that will not occur in the data. This can be done so that the machine can recognize that the data is not real or is different.\n",
        "- Filling the categorical value with a new type for the missing values."
      ]
    },
    {
      "cell_type": "code",
      "execution_count": 51,
      "metadata": {
        "colab": {
          "base_uri": "https://localhost:8080/"
        },
        "id": "CfEURfzLQwsf",
        "outputId": "8e1655f7-befc-40c5-d95c-936f00545117"
      },
      "outputs": [
        {
          "data": {
            "text/plain": [
              "150.6204081632653"
            ]
          },
          "execution_count": 51,
          "metadata": {},
          "output_type": "execute_result"
        }
      ],
      "source": [
        "df['energy_costs'].mean()"
      ]
    },
    {
      "cell_type": "code",
      "execution_count": 47,
      "metadata": {
        "colab": {
          "base_uri": "https://localhost:8080/"
        },
        "id": "vWcxstqyQxg5",
        "outputId": "a47cb14b-538b-4a83-ac86-fd317abedd98"
      },
      "outputs": [
        {
          "data": {
            "text/plain": [
              "136900.0"
            ]
          },
          "execution_count": 47,
          "metadata": {},
          "output_type": "execute_result"
        }
      ],
      "source": [
        "df['price'].median()"
      ]
    },
    {
      "cell_type": "code",
      "execution_count": 48,
      "metadata": {},
      "outputs": [
        {
          "data": {
            "text/plain": [
              "0    7,1\n",
              "Name: relax, dtype: object"
            ]
          },
          "execution_count": 48,
          "metadata": {},
          "output_type": "execute_result"
        }
      ],
      "source": [
        "df['relax'].mode()"
      ]
    },
    {
      "cell_type": "code",
      "execution_count": 53,
      "metadata": {
        "colab": {
          "base_uri": "https://localhost:8080/"
        },
        "id": "BDP2uMYqQIS-",
        "outputId": "8d7cd933-cf45-42ef-c746-80701a49248a"
      },
      "outputs": [
        {
          "name": "stdout",
          "output_type": "stream",
          "text": [
            "<class 'pandas.core.frame.DataFrame'>\n",
            "RangeIndex: 15403 entries, 0 to 15402\n",
            "Data columns (total 27 columns):\n",
            " #   Column               Non-Null Count  Dtype  \n",
            "---  ------               --------------  -----  \n",
            " 0   name_nsi             15403 non-null  object \n",
            " 1   price                15403 non-null  int64  \n",
            " 2   index                15403 non-null  object \n",
            " 3   environment          4132 non-null   object \n",
            " 4   quality_of_living    4132 non-null   object \n",
            " 5   safety               4132 non-null   object \n",
            " 6   transport            4132 non-null   object \n",
            " 7   services             4132 non-null   object \n",
            " 8   relax                4132 non-null   object \n",
            " 9   condition            15076 non-null  object \n",
            " 10  area                 14687 non-null  object \n",
            " 11  energy_costs         15403 non-null  float64\n",
            " 12  provision            15403 non-null  int64  \n",
            " 13  certificate          6445 non-null   object \n",
            " 14  construction_type    2367 non-null   object \n",
            " 15  orientation          1023 non-null   object \n",
            " 16  year_built           3878 non-null   float64\n",
            " 17  last_reconstruction  682 non-null    float64\n",
            " 18  total_floors         7286 non-null   float64\n",
            " 19  floor                8316 non-null   float64\n",
            " 20  lift                 15403 non-null  int64  \n",
            " 21  balkonies            1767 non-null   float64\n",
            " 22  loggia               1520 non-null   float64\n",
            " 23  cellar               15403 non-null  int64  \n",
            " 24  type                 15403 non-null  object \n",
            " 25  rooms                15403 non-null  int64  \n",
            " 26  district             15403 non-null  object \n",
            "dtypes: float64(7), int64(5), object(15)\n",
            "memory usage: 3.2+ MB\n"
          ]
        }
      ],
      "source": [
        "#fillna: fills the null records\n",
        "#dropna: drops the null records\n",
        "\n",
        "updated_df = df\n",
        "updated_df['index']=updated_df['index'].fillna(updated_df['index'].mode()[0])\n",
        "updated_df.info()"
      ]
    },
    {
      "cell_type": "code",
      "execution_count": 55,
      "metadata": {},
      "outputs": [
        {
          "name": "stdout",
          "output_type": "stream",
          "text": [
            "Numeric columns: ['price', 'energy_costs', 'provision', 'year_built', 'last_reconstruction', 'total_floors', 'floor', 'lift', 'balkonies', 'loggia', 'cellar', 'rooms']\n"
          ]
        }
      ],
      "source": [
        "# use filter to include only numeric columns\n",
        "numeric_columns = updated_df.select_dtypes(include=[np.number]).columns.tolist()\n",
        "print(\"Numeric columns:\", numeric_columns)"
      ]
    },
    {
      "cell_type": "code",
      "execution_count": 10,
      "metadata": {},
      "outputs": [
        {
          "name": "stdout",
          "output_type": "stream",
          "text": [
            "price                  float64\n",
            "energy_costs           float64\n",
            "provision              float64\n",
            "year_built             float64\n",
            "last_reconstruction    float64\n",
            "total_floors           float64\n",
            "floor                  float64\n",
            "lift                   float64\n",
            "balkonies              float64\n",
            "loggia                 float64\n",
            "cellar                 float64\n",
            "rooms                  float64\n",
            "dtype: object\n",
            "name_nsi                object\n",
            "price                  float64\n",
            "index                   object\n",
            "environment             object\n",
            "quality_of_living       object\n",
            "safety                  object\n",
            "transport               object\n",
            "services                object\n",
            "relax                   object\n",
            "condition               object\n",
            "area                    object\n",
            "energy_costs           float64\n",
            "provision              float64\n",
            "certificate             object\n",
            "construction_type       object\n",
            "orientation             object\n",
            "year_built             float64\n",
            "last_reconstruction    float64\n",
            "total_floors           float64\n",
            "floor                  float64\n",
            "lift                   float64\n",
            "balkonies              float64\n",
            "loggia                 float64\n",
            "cellar                 float64\n",
            "type                    object\n",
            "rooms                  float64\n",
            "district                object\n",
            "dtype: object\n",
            "\n",
            "Missing values per column:\n",
            " name_nsi               0\n",
            "price                  0\n",
            "index                  4\n",
            "environment            5\n",
            "quality_of_living      5\n",
            "safety                 5\n",
            "transport              5\n",
            "services               5\n",
            "relax                  5\n",
            "condition              0\n",
            "area                   0\n",
            "energy_costs           4\n",
            "provision              0\n",
            "certificate            3\n",
            "construction_type      4\n",
            "orientation            5\n",
            "year_built             5\n",
            "last_reconstruction    4\n",
            "total_floors           2\n",
            "floor                  2\n",
            "lift                   0\n",
            "balkonies              5\n",
            "loggia                 5\n",
            "cellar                 0\n",
            "type                   0\n",
            "rooms                  0\n",
            "district               0\n",
            "dtype: int64\n"
          ]
        },
        {
          "data": {
            "text/html": [
              "<style type=\"text/css\">\n",
              "#T_9fefb_row0_col2, #T_9fefb_row0_col3, #T_9fefb_row0_col4, #T_9fefb_row0_col5, #T_9fefb_row0_col6, #T_9fefb_row0_col7, #T_9fefb_row0_col8, #T_9fefb_row0_col11, #T_9fefb_row0_col13, #T_9fefb_row0_col14, #T_9fefb_row0_col15, #T_9fefb_row0_col16, #T_9fefb_row0_col17, #T_9fefb_row0_col18, #T_9fefb_row0_col19, #T_9fefb_row0_col21, #T_9fefb_row0_col22, #T_9fefb_row1_col2, #T_9fefb_row1_col3, #T_9fefb_row1_col4, #T_9fefb_row1_col5, #T_9fefb_row1_col6, #T_9fefb_row1_col7, #T_9fefb_row1_col8, #T_9fefb_row1_col11, #T_9fefb_row1_col15, #T_9fefb_row1_col16, #T_9fefb_row1_col17, #T_9fefb_row1_col19, #T_9fefb_row1_col21, #T_9fefb_row1_col22, #T_9fefb_row2_col3, #T_9fefb_row2_col4, #T_9fefb_row2_col5, #T_9fefb_row2_col6, #T_9fefb_row2_col7, #T_9fefb_row2_col8, #T_9fefb_row2_col11, #T_9fefb_row2_col13, #T_9fefb_row2_col14, #T_9fefb_row2_col15, #T_9fefb_row2_col16, #T_9fefb_row2_col17, #T_9fefb_row2_col21, #T_9fefb_row2_col22, #T_9fefb_row3_col2, #T_9fefb_row3_col3, #T_9fefb_row3_col4, #T_9fefb_row3_col5, #T_9fefb_row3_col6, #T_9fefb_row3_col7, #T_9fefb_row3_col8, #T_9fefb_row3_col14, #T_9fefb_row3_col15, #T_9fefb_row3_col16, #T_9fefb_row3_col17, #T_9fefb_row3_col21, #T_9fefb_row3_col22, #T_9fefb_row4_col2, #T_9fefb_row4_col3, #T_9fefb_row4_col4, #T_9fefb_row4_col5, #T_9fefb_row4_col6, #T_9fefb_row4_col7, #T_9fefb_row4_col8, #T_9fefb_row4_col11, #T_9fefb_row4_col13, #T_9fefb_row4_col14, #T_9fefb_row4_col15, #T_9fefb_row4_col16, #T_9fefb_row4_col18, #T_9fefb_row4_col21, #T_9fefb_row4_col22 {\n",
              "  background-color: red;\n",
              "}\n",
              "</style>\n",
              "<table id=\"T_9fefb\">\n",
              "  <thead>\n",
              "    <tr>\n",
              "      <th class=\"blank level0\" >&nbsp;</th>\n",
              "      <th id=\"T_9fefb_level0_col0\" class=\"col_heading level0 col0\" >name_nsi</th>\n",
              "      <th id=\"T_9fefb_level0_col1\" class=\"col_heading level0 col1\" >price</th>\n",
              "      <th id=\"T_9fefb_level0_col2\" class=\"col_heading level0 col2\" >index</th>\n",
              "      <th id=\"T_9fefb_level0_col3\" class=\"col_heading level0 col3\" >environment</th>\n",
              "      <th id=\"T_9fefb_level0_col4\" class=\"col_heading level0 col4\" >quality_of_living</th>\n",
              "      <th id=\"T_9fefb_level0_col5\" class=\"col_heading level0 col5\" >safety</th>\n",
              "      <th id=\"T_9fefb_level0_col6\" class=\"col_heading level0 col6\" >transport</th>\n",
              "      <th id=\"T_9fefb_level0_col7\" class=\"col_heading level0 col7\" >services</th>\n",
              "      <th id=\"T_9fefb_level0_col8\" class=\"col_heading level0 col8\" >relax</th>\n",
              "      <th id=\"T_9fefb_level0_col9\" class=\"col_heading level0 col9\" >condition</th>\n",
              "      <th id=\"T_9fefb_level0_col10\" class=\"col_heading level0 col10\" >area</th>\n",
              "      <th id=\"T_9fefb_level0_col11\" class=\"col_heading level0 col11\" >energy_costs</th>\n",
              "      <th id=\"T_9fefb_level0_col12\" class=\"col_heading level0 col12\" >provision</th>\n",
              "      <th id=\"T_9fefb_level0_col13\" class=\"col_heading level0 col13\" >certificate</th>\n",
              "      <th id=\"T_9fefb_level0_col14\" class=\"col_heading level0 col14\" >construction_type</th>\n",
              "      <th id=\"T_9fefb_level0_col15\" class=\"col_heading level0 col15\" >orientation</th>\n",
              "      <th id=\"T_9fefb_level0_col16\" class=\"col_heading level0 col16\" >year_built</th>\n",
              "      <th id=\"T_9fefb_level0_col17\" class=\"col_heading level0 col17\" >last_reconstruction</th>\n",
              "      <th id=\"T_9fefb_level0_col18\" class=\"col_heading level0 col18\" >total_floors</th>\n",
              "      <th id=\"T_9fefb_level0_col19\" class=\"col_heading level0 col19\" >floor</th>\n",
              "      <th id=\"T_9fefb_level0_col20\" class=\"col_heading level0 col20\" >lift</th>\n",
              "      <th id=\"T_9fefb_level0_col21\" class=\"col_heading level0 col21\" >balkonies</th>\n",
              "      <th id=\"T_9fefb_level0_col22\" class=\"col_heading level0 col22\" >loggia</th>\n",
              "      <th id=\"T_9fefb_level0_col23\" class=\"col_heading level0 col23\" >cellar</th>\n",
              "      <th id=\"T_9fefb_level0_col24\" class=\"col_heading level0 col24\" >type</th>\n",
              "      <th id=\"T_9fefb_level0_col25\" class=\"col_heading level0 col25\" >rooms</th>\n",
              "      <th id=\"T_9fefb_level0_col26\" class=\"col_heading level0 col26\" >district</th>\n",
              "    </tr>\n",
              "  </thead>\n",
              "  <tbody>\n",
              "    <tr>\n",
              "      <th id=\"T_9fefb_level0_row0\" class=\"row_heading level0 row0\" >0</th>\n",
              "      <td id=\"T_9fefb_row0_col0\" class=\"data row0 col0\" >Semerovo</td>\n",
              "      <td id=\"T_9fefb_row0_col1\" class=\"data row0 col1\" >42000</td>\n",
              "      <td id=\"T_9fefb_row0_col2\" class=\"data row0 col2\" >nan</td>\n",
              "      <td id=\"T_9fefb_row0_col3\" class=\"data row0 col3\" >nan</td>\n",
              "      <td id=\"T_9fefb_row0_col4\" class=\"data row0 col4\" >nan</td>\n",
              "      <td id=\"T_9fefb_row0_col5\" class=\"data row0 col5\" >nan</td>\n",
              "      <td id=\"T_9fefb_row0_col6\" class=\"data row0 col6\" >nan</td>\n",
              "      <td id=\"T_9fefb_row0_col7\" class=\"data row0 col7\" >nan</td>\n",
              "      <td id=\"T_9fefb_row0_col8\" class=\"data row0 col8\" >nan</td>\n",
              "      <td id=\"T_9fefb_row0_col9\" class=\"data row0 col9\" >Original condition</td>\n",
              "      <td id=\"T_9fefb_row0_col10\" class=\"data row0 col10\" >58</td>\n",
              "      <td id=\"T_9fefb_row0_col11\" class=\"data row0 col11\" >nan</td>\n",
              "      <td id=\"T_9fefb_row0_col12\" class=\"data row0 col12\" >0</td>\n",
              "      <td id=\"T_9fefb_row0_col13\" class=\"data row0 col13\" >nan</td>\n",
              "      <td id=\"T_9fefb_row0_col14\" class=\"data row0 col14\" >nan</td>\n",
              "      <td id=\"T_9fefb_row0_col15\" class=\"data row0 col15\" >nan</td>\n",
              "      <td id=\"T_9fefb_row0_col16\" class=\"data row0 col16\" >nan</td>\n",
              "      <td id=\"T_9fefb_row0_col17\" class=\"data row0 col17\" >nan</td>\n",
              "      <td id=\"T_9fefb_row0_col18\" class=\"data row0 col18\" >nan</td>\n",
              "      <td id=\"T_9fefb_row0_col19\" class=\"data row0 col19\" >nan</td>\n",
              "      <td id=\"T_9fefb_row0_col20\" class=\"data row0 col20\" >0</td>\n",
              "      <td id=\"T_9fefb_row0_col21\" class=\"data row0 col21\" >nan</td>\n",
              "      <td id=\"T_9fefb_row0_col22\" class=\"data row0 col22\" >nan</td>\n",
              "      <td id=\"T_9fefb_row0_col23\" class=\"data row0 col23\" >0</td>\n",
              "      <td id=\"T_9fefb_row0_col24\" class=\"data row0 col24\" >3-room apartment</td>\n",
              "      <td id=\"T_9fefb_row0_col25\" class=\"data row0 col25\" >3</td>\n",
              "      <td id=\"T_9fefb_row0_col26\" class=\"data row0 col26\" >Nové Zámky</td>\n",
              "    </tr>\n",
              "    <tr>\n",
              "      <th id=\"T_9fefb_level0_row1\" class=\"row_heading level0 row1\" >1</th>\n",
              "      <td id=\"T_9fefb_row1_col0\" class=\"data row1 col0\" >Semerovo</td>\n",
              "      <td id=\"T_9fefb_row1_col1\" class=\"data row1 col1\" >42000</td>\n",
              "      <td id=\"T_9fefb_row1_col2\" class=\"data row1 col2\" >nan</td>\n",
              "      <td id=\"T_9fefb_row1_col3\" class=\"data row1 col3\" >nan</td>\n",
              "      <td id=\"T_9fefb_row1_col4\" class=\"data row1 col4\" >nan</td>\n",
              "      <td id=\"T_9fefb_row1_col5\" class=\"data row1 col5\" >nan</td>\n",
              "      <td id=\"T_9fefb_row1_col6\" class=\"data row1 col6\" >nan</td>\n",
              "      <td id=\"T_9fefb_row1_col7\" class=\"data row1 col7\" >nan</td>\n",
              "      <td id=\"T_9fefb_row1_col8\" class=\"data row1 col8\" >nan</td>\n",
              "      <td id=\"T_9fefb_row1_col9\" class=\"data row1 col9\" >Original condition</td>\n",
              "      <td id=\"T_9fefb_row1_col10\" class=\"data row1 col10\" >58</td>\n",
              "      <td id=\"T_9fefb_row1_col11\" class=\"data row1 col11\" >nan</td>\n",
              "      <td id=\"T_9fefb_row1_col12\" class=\"data row1 col12\" >0</td>\n",
              "      <td id=\"T_9fefb_row1_col13\" class=\"data row1 col13\" >none</td>\n",
              "      <td id=\"T_9fefb_row1_col14\" class=\"data row1 col14\" >Brick</td>\n",
              "      <td id=\"T_9fefb_row1_col15\" class=\"data row1 col15\" >nan</td>\n",
              "      <td id=\"T_9fefb_row1_col16\" class=\"data row1 col16\" >nan</td>\n",
              "      <td id=\"T_9fefb_row1_col17\" class=\"data row1 col17\" >nan</td>\n",
              "      <td id=\"T_9fefb_row1_col18\" class=\"data row1 col18\" >2.000000</td>\n",
              "      <td id=\"T_9fefb_row1_col19\" class=\"data row1 col19\" >nan</td>\n",
              "      <td id=\"T_9fefb_row1_col20\" class=\"data row1 col20\" >0</td>\n",
              "      <td id=\"T_9fefb_row1_col21\" class=\"data row1 col21\" >nan</td>\n",
              "      <td id=\"T_9fefb_row1_col22\" class=\"data row1 col22\" >nan</td>\n",
              "      <td id=\"T_9fefb_row1_col23\" class=\"data row1 col23\" >0</td>\n",
              "      <td id=\"T_9fefb_row1_col24\" class=\"data row1 col24\" >3-room apartment</td>\n",
              "      <td id=\"T_9fefb_row1_col25\" class=\"data row1 col25\" >3</td>\n",
              "      <td id=\"T_9fefb_row1_col26\" class=\"data row1 col26\" >Nové Zámky</td>\n",
              "    </tr>\n",
              "    <tr>\n",
              "      <th id=\"T_9fefb_level0_row2\" class=\"row_heading level0 row2\" >2</th>\n",
              "      <td id=\"T_9fefb_row2_col0\" class=\"data row2 col0\" >Štúrovo</td>\n",
              "      <td id=\"T_9fefb_row2_col1\" class=\"data row2 col1\" >107000</td>\n",
              "      <td id=\"T_9fefb_row2_col2\" class=\"data row2 col2\" >8,3</td>\n",
              "      <td id=\"T_9fefb_row2_col3\" class=\"data row2 col3\" >nan</td>\n",
              "      <td id=\"T_9fefb_row2_col4\" class=\"data row2 col4\" >nan</td>\n",
              "      <td id=\"T_9fefb_row2_col5\" class=\"data row2 col5\" >nan</td>\n",
              "      <td id=\"T_9fefb_row2_col6\" class=\"data row2 col6\" >nan</td>\n",
              "      <td id=\"T_9fefb_row2_col7\" class=\"data row2 col7\" >nan</td>\n",
              "      <td id=\"T_9fefb_row2_col8\" class=\"data row2 col8\" >nan</td>\n",
              "      <td id=\"T_9fefb_row2_col9\" class=\"data row2 col9\" >Partial reconstruction</td>\n",
              "      <td id=\"T_9fefb_row2_col10\" class=\"data row2 col10\" >40</td>\n",
              "      <td id=\"T_9fefb_row2_col11\" class=\"data row2 col11\" >nan</td>\n",
              "      <td id=\"T_9fefb_row2_col12\" class=\"data row2 col12\" >0</td>\n",
              "      <td id=\"T_9fefb_row2_col13\" class=\"data row2 col13\" >nan</td>\n",
              "      <td id=\"T_9fefb_row2_col14\" class=\"data row2 col14\" >nan</td>\n",
              "      <td id=\"T_9fefb_row2_col15\" class=\"data row2 col15\" >nan</td>\n",
              "      <td id=\"T_9fefb_row2_col16\" class=\"data row2 col16\" >nan</td>\n",
              "      <td id=\"T_9fefb_row2_col17\" class=\"data row2 col17\" >nan</td>\n",
              "      <td id=\"T_9fefb_row2_col18\" class=\"data row2 col18\" >5.000000</td>\n",
              "      <td id=\"T_9fefb_row2_col19\" class=\"data row2 col19\" >3.000000</td>\n",
              "      <td id=\"T_9fefb_row2_col20\" class=\"data row2 col20\" >0</td>\n",
              "      <td id=\"T_9fefb_row2_col21\" class=\"data row2 col21\" >nan</td>\n",
              "      <td id=\"T_9fefb_row2_col22\" class=\"data row2 col22\" >nan</td>\n",
              "      <td id=\"T_9fefb_row2_col23\" class=\"data row2 col23\" >0</td>\n",
              "      <td id=\"T_9fefb_row2_col24\" class=\"data row2 col24\" >1-room apartment</td>\n",
              "      <td id=\"T_9fefb_row2_col25\" class=\"data row2 col25\" >1</td>\n",
              "      <td id=\"T_9fefb_row2_col26\" class=\"data row2 col26\" >Nové Zámky</td>\n",
              "    </tr>\n",
              "    <tr>\n",
              "      <th id=\"T_9fefb_level0_row3\" class=\"row_heading level0 row3\" >3</th>\n",
              "      <td id=\"T_9fefb_row3_col0\" class=\"data row3 col0\" >Štúrovo</td>\n",
              "      <td id=\"T_9fefb_row3_col1\" class=\"data row3 col1\" >105000</td>\n",
              "      <td id=\"T_9fefb_row3_col2\" class=\"data row3 col2\" >nan</td>\n",
              "      <td id=\"T_9fefb_row3_col3\" class=\"data row3 col3\" >nan</td>\n",
              "      <td id=\"T_9fefb_row3_col4\" class=\"data row3 col4\" >nan</td>\n",
              "      <td id=\"T_9fefb_row3_col5\" class=\"data row3 col5\" >nan</td>\n",
              "      <td id=\"T_9fefb_row3_col6\" class=\"data row3 col6\" >nan</td>\n",
              "      <td id=\"T_9fefb_row3_col7\" class=\"data row3 col7\" >nan</td>\n",
              "      <td id=\"T_9fefb_row3_col8\" class=\"data row3 col8\" >nan</td>\n",
              "      <td id=\"T_9fefb_row3_col9\" class=\"data row3 col9\" >Complete reconstruction</td>\n",
              "      <td id=\"T_9fefb_row3_col10\" class=\"data row3 col10\" >76</td>\n",
              "      <td id=\"T_9fefb_row3_col11\" class=\"data row3 col11\" >200.000000</td>\n",
              "      <td id=\"T_9fefb_row3_col12\" class=\"data row3 col12\" >1</td>\n",
              "      <td id=\"T_9fefb_row3_col13\" class=\"data row3 col13\" >C</td>\n",
              "      <td id=\"T_9fefb_row3_col14\" class=\"data row3 col14\" >nan</td>\n",
              "      <td id=\"T_9fefb_row3_col15\" class=\"data row3 col15\" >nan</td>\n",
              "      <td id=\"T_9fefb_row3_col16\" class=\"data row3 col16\" >nan</td>\n",
              "      <td id=\"T_9fefb_row3_col17\" class=\"data row3 col17\" >nan</td>\n",
              "      <td id=\"T_9fefb_row3_col18\" class=\"data row3 col18\" >7.000000</td>\n",
              "      <td id=\"T_9fefb_row3_col19\" class=\"data row3 col19\" >4.000000</td>\n",
              "      <td id=\"T_9fefb_row3_col20\" class=\"data row3 col20\" >1</td>\n",
              "      <td id=\"T_9fefb_row3_col21\" class=\"data row3 col21\" >nan</td>\n",
              "      <td id=\"T_9fefb_row3_col22\" class=\"data row3 col22\" >nan</td>\n",
              "      <td id=\"T_9fefb_row3_col23\" class=\"data row3 col23\" >0</td>\n",
              "      <td id=\"T_9fefb_row3_col24\" class=\"data row3 col24\" >3-room apartment</td>\n",
              "      <td id=\"T_9fefb_row3_col25\" class=\"data row3 col25\" >3</td>\n",
              "      <td id=\"T_9fefb_row3_col26\" class=\"data row3 col26\" >Nové Zámky</td>\n",
              "    </tr>\n",
              "    <tr>\n",
              "      <th id=\"T_9fefb_level0_row4\" class=\"row_heading level0 row4\" >4</th>\n",
              "      <td id=\"T_9fefb_row4_col0\" class=\"data row4 col0\" >Štúrovo</td>\n",
              "      <td id=\"T_9fefb_row4_col1\" class=\"data row4 col1\" >82000</td>\n",
              "      <td id=\"T_9fefb_row4_col2\" class=\"data row4 col2\" >nan</td>\n",
              "      <td id=\"T_9fefb_row4_col3\" class=\"data row4 col3\" >nan</td>\n",
              "      <td id=\"T_9fefb_row4_col4\" class=\"data row4 col4\" >nan</td>\n",
              "      <td id=\"T_9fefb_row4_col5\" class=\"data row4 col5\" >nan</td>\n",
              "      <td id=\"T_9fefb_row4_col6\" class=\"data row4 col6\" >nan</td>\n",
              "      <td id=\"T_9fefb_row4_col7\" class=\"data row4 col7\" >nan</td>\n",
              "      <td id=\"T_9fefb_row4_col8\" class=\"data row4 col8\" >nan</td>\n",
              "      <td id=\"T_9fefb_row4_col9\" class=\"data row4 col9\" >Partial reconstruction</td>\n",
              "      <td id=\"T_9fefb_row4_col10\" class=\"data row4 col10\" >63</td>\n",
              "      <td id=\"T_9fefb_row4_col11\" class=\"data row4 col11\" >nan</td>\n",
              "      <td id=\"T_9fefb_row4_col12\" class=\"data row4 col12\" >0</td>\n",
              "      <td id=\"T_9fefb_row4_col13\" class=\"data row4 col13\" >nan</td>\n",
              "      <td id=\"T_9fefb_row4_col14\" class=\"data row4 col14\" >nan</td>\n",
              "      <td id=\"T_9fefb_row4_col15\" class=\"data row4 col15\" >nan</td>\n",
              "      <td id=\"T_9fefb_row4_col16\" class=\"data row4 col16\" >nan</td>\n",
              "      <td id=\"T_9fefb_row4_col17\" class=\"data row4 col17\" >2018.000000</td>\n",
              "      <td id=\"T_9fefb_row4_col18\" class=\"data row4 col18\" >nan</td>\n",
              "      <td id=\"T_9fefb_row4_col19\" class=\"data row4 col19\" >2.000000</td>\n",
              "      <td id=\"T_9fefb_row4_col20\" class=\"data row4 col20\" >0</td>\n",
              "      <td id=\"T_9fefb_row4_col21\" class=\"data row4 col21\" >nan</td>\n",
              "      <td id=\"T_9fefb_row4_col22\" class=\"data row4 col22\" >nan</td>\n",
              "      <td id=\"T_9fefb_row4_col23\" class=\"data row4 col23\" >0</td>\n",
              "      <td id=\"T_9fefb_row4_col24\" class=\"data row4 col24\" >2-room apartment</td>\n",
              "      <td id=\"T_9fefb_row4_col25\" class=\"data row4 col25\" >2</td>\n",
              "      <td id=\"T_9fefb_row4_col26\" class=\"data row4 col26\" >Nové Zámky</td>\n",
              "    </tr>\n",
              "  </tbody>\n",
              "</table>\n"
            ],
            "text/plain": [
              "<pandas.io.formats.style.Styler at 0x20e76fb8c50>"
            ]
          },
          "execution_count": 10,
          "metadata": {},
          "output_type": "execute_result"
        }
      ],
      "source": [
        "# Display the data types of the first 5 rows' descriptive statistics\n",
        "print(df.head().describe().dtypes)\n",
        "# Display descriptive statistics for both numeric and object columns\n",
        "print(df.head().describe(include='all').dtypes)\n",
        "\n",
        "# Show count of missing values for each column\n",
        "print(\"\\nMissing values per column:\\n\", df.head().isnull().sum())\n",
        "\n",
        "# Show the first 5 rows with missing values highlighted\n",
        "df.head().style.highlight_null(props='background-color: red')\n"
      ]
    },
    {
      "cell_type": "code",
      "execution_count": 12,
      "metadata": {},
      "outputs": [
        {
          "ename": "KeyError",
          "evalue": "'CreditScore'",
          "output_type": "error",
          "traceback": [
            "\u001b[31m---------------------------------------------------------------------------\u001b[39m",
            "\u001b[31mKeyError\u001b[39m                                  Traceback (most recent call last)",
            "\u001b[36mFile \u001b[39m\u001b[32mc:\\ProgramData\\anaconda3\\Lib\\site-packages\\pandas\\core\\indexes\\base.py:3791\u001b[39m, in \u001b[36mIndex.get_loc\u001b[39m\u001b[34m(self, key)\u001b[39m\n\u001b[32m   3790\u001b[39m \u001b[38;5;28;01mtry\u001b[39;00m:\n\u001b[32m-> \u001b[39m\u001b[32m3791\u001b[39m     \u001b[38;5;28;01mreturn\u001b[39;00m \u001b[38;5;28;43mself\u001b[39;49m\u001b[43m.\u001b[49m\u001b[43m_engine\u001b[49m\u001b[43m.\u001b[49m\u001b[43mget_loc\u001b[49m\u001b[43m(\u001b[49m\u001b[43mcasted_key\u001b[49m\u001b[43m)\u001b[49m\n\u001b[32m   3792\u001b[39m \u001b[38;5;28;01mexcept\u001b[39;00m \u001b[38;5;167;01mKeyError\u001b[39;00m \u001b[38;5;28;01mas\u001b[39;00m err:\n",
            "\u001b[36mFile \u001b[39m\u001b[32mindex.pyx:152\u001b[39m, in \u001b[36mpandas._libs.index.IndexEngine.get_loc\u001b[39m\u001b[34m()\u001b[39m\n",
            "\u001b[36mFile \u001b[39m\u001b[32mindex.pyx:181\u001b[39m, in \u001b[36mpandas._libs.index.IndexEngine.get_loc\u001b[39m\u001b[34m()\u001b[39m\n",
            "\u001b[36mFile \u001b[39m\u001b[32mpandas\\_libs\\hashtable_class_helper.pxi:7080\u001b[39m, in \u001b[36mpandas._libs.hashtable.PyObjectHashTable.get_item\u001b[39m\u001b[34m()\u001b[39m\n",
            "\u001b[36mFile \u001b[39m\u001b[32mpandas\\_libs\\hashtable_class_helper.pxi:7088\u001b[39m, in \u001b[36mpandas._libs.hashtable.PyObjectHashTable.get_item\u001b[39m\u001b[34m()\u001b[39m\n",
            "\u001b[31mKeyError\u001b[39m: 'CreditScore'",
            "\nThe above exception was the direct cause of the following exception:\n",
            "\u001b[31mKeyError\u001b[39m                                  Traceback (most recent call last)",
            "\u001b[36mCell\u001b[39m\u001b[36m \u001b[39m\u001b[32mIn[12]\u001b[39m\u001b[32m, line 10\u001b[39m\n\u001b[32m      7\u001b[39m updated_df = df.copy()\n\u001b[32m      9\u001b[39m \u001b[38;5;28;01mfor\u001b[39;00m col \u001b[38;5;129;01min\u001b[39;00m df_numeric_data:\n\u001b[32m---> \u001b[39m\u001b[32m10\u001b[39m     \u001b[38;5;28;01mif\u001b[39;00m \u001b[43mupdated_df\u001b[49m\u001b[43m[\u001b[49m\u001b[43mcol\u001b[49m\u001b[43m]\u001b[49m.isnull().sum() > \u001b[32m0\u001b[39m:  \u001b[38;5;66;03m# Check if column has missing values\u001b[39;00m\n\u001b[32m     11\u001b[39m         mean_value = updated_df[col].mean()\n\u001b[32m     12\u001b[39m         updated_df[col] = updated_df[col].fillna(mean_value)\n",
            "\u001b[36mFile \u001b[39m\u001b[32mc:\\ProgramData\\anaconda3\\Lib\\site-packages\\pandas\\core\\frame.py:3893\u001b[39m, in \u001b[36mDataFrame.__getitem__\u001b[39m\u001b[34m(self, key)\u001b[39m\n\u001b[32m   3891\u001b[39m \u001b[38;5;28;01mif\u001b[39;00m \u001b[38;5;28mself\u001b[39m.columns.nlevels > \u001b[32m1\u001b[39m:\n\u001b[32m   3892\u001b[39m     \u001b[38;5;28;01mreturn\u001b[39;00m \u001b[38;5;28mself\u001b[39m._getitem_multilevel(key)\n\u001b[32m-> \u001b[39m\u001b[32m3893\u001b[39m indexer = \u001b[38;5;28;43mself\u001b[39;49m\u001b[43m.\u001b[49m\u001b[43mcolumns\u001b[49m\u001b[43m.\u001b[49m\u001b[43mget_loc\u001b[49m\u001b[43m(\u001b[49m\u001b[43mkey\u001b[49m\u001b[43m)\u001b[49m\n\u001b[32m   3894\u001b[39m \u001b[38;5;28;01mif\u001b[39;00m is_integer(indexer):\n\u001b[32m   3895\u001b[39m     indexer = [indexer]\n",
            "\u001b[36mFile \u001b[39m\u001b[32mc:\\ProgramData\\anaconda3\\Lib\\site-packages\\pandas\\core\\indexes\\base.py:3798\u001b[39m, in \u001b[36mIndex.get_loc\u001b[39m\u001b[34m(self, key)\u001b[39m\n\u001b[32m   3793\u001b[39m     \u001b[38;5;28;01mif\u001b[39;00m \u001b[38;5;28misinstance\u001b[39m(casted_key, \u001b[38;5;28mslice\u001b[39m) \u001b[38;5;129;01mor\u001b[39;00m (\n\u001b[32m   3794\u001b[39m         \u001b[38;5;28misinstance\u001b[39m(casted_key, abc.Iterable)\n\u001b[32m   3795\u001b[39m         \u001b[38;5;129;01mand\u001b[39;00m \u001b[38;5;28many\u001b[39m(\u001b[38;5;28misinstance\u001b[39m(x, \u001b[38;5;28mslice\u001b[39m) \u001b[38;5;28;01mfor\u001b[39;00m x \u001b[38;5;129;01min\u001b[39;00m casted_key)\n\u001b[32m   3796\u001b[39m     ):\n\u001b[32m   3797\u001b[39m         \u001b[38;5;28;01mraise\u001b[39;00m InvalidIndexError(key)\n\u001b[32m-> \u001b[39m\u001b[32m3798\u001b[39m     \u001b[38;5;28;01mraise\u001b[39;00m \u001b[38;5;167;01mKeyError\u001b[39;00m(key) \u001b[38;5;28;01mfrom\u001b[39;00m\u001b[38;5;250m \u001b[39m\u001b[34;01merr\u001b[39;00m\n\u001b[32m   3799\u001b[39m \u001b[38;5;28;01mexcept\u001b[39;00m \u001b[38;5;167;01mTypeError\u001b[39;00m:\n\u001b[32m   3800\u001b[39m     \u001b[38;5;66;03m# If we have a listlike key, _check_indexing_error will raise\u001b[39;00m\n\u001b[32m   3801\u001b[39m     \u001b[38;5;66;03m#  InvalidIndexError. Otherwise we fall through and re-raise\u001b[39;00m\n\u001b[32m   3802\u001b[39m     \u001b[38;5;66;03m#  the TypeError.\u001b[39;00m\n\u001b[32m   3803\u001b[39m     \u001b[38;5;28mself\u001b[39m._check_indexing_error(key)\n",
            "\u001b[31mKeyError\u001b[39m: 'CreditScore'"
          ]
        }
      ],
      "source": [
        "# filling missing value to more than two columns\n",
        "\n",
        "\n",
        "df_numeric_data = ['CreditScore', 'Age', 'Tenure', 'Balance', \n",
        "                   'NumOfProducts', 'HasCrCard', 'IsActiveMember', 'EstimatedSalary', 'Exited']\n",
        "\n",
        "updated_df = df.copy()\n",
        "\n",
        "for col in df_numeric_data:\n",
        "    if updated_df[col].isnull().sum() > 0:  # Check if column has missing values\n",
        "        mean_value = updated_df[col].mean()\n",
        "        updated_df[col] = updated_df[col].fillna(mean_value)\n",
        "\n",
        "updated_df.info()\n"
      ]
    },
    {
      "cell_type": "code",
      "execution_count": 15,
      "metadata": {
        "colab": {
          "base_uri": "https://localhost:8080/"
        },
        "id": "rBqWRFHhQ0P6",
        "outputId": "7f7b181b-b2d3-4b24-e68b-bc67effc9cbf"
      },
      "outputs": [
        {
          "name": "stdout",
          "output_type": "stream",
          "text": [
            "<class 'pandas.core.frame.DataFrame'>\n",
            "RangeIndex: 10000 entries, 0 to 9999\n",
            "Data columns (total 14 columns):\n",
            " #   Column           Non-Null Count  Dtype  \n",
            "---  ------           --------------  -----  \n",
            " 0   RowNumber        10000 non-null  int64  \n",
            " 1   CustomerId       10000 non-null  int64  \n",
            " 2   Surname          10000 non-null  object \n",
            " 3   CreditScore      10000 non-null  int64  \n",
            " 4   Geography        10000 non-null  object \n",
            " 5   Gender           10000 non-null  object \n",
            " 6   Age              10000 non-null  float64\n",
            " 7   Tenure           10000 non-null  int64  \n",
            " 8   Balance          10000 non-null  float64\n",
            " 9   NumOfProducts    9999 non-null   float64\n",
            " 10  HasCrCard        9998 non-null   float64\n",
            " 11  IsActiveMember   10000 non-null  int64  \n",
            " 12  EstimatedSalary  10000 non-null  float64\n",
            " 13  Exited           10000 non-null  int64  \n",
            "dtypes: float64(5), int64(6), object(3)\n",
            "memory usage: 1.1+ MB\n"
          ]
        }
      ],
      "source": [
        "updated_df1 = df\n",
        "updated_df1['Age']=updated_df1['Age'].fillna(updated_df1['Age'].median())\n",
        "updated_df1.info()"
      ]
    },
    {
      "cell_type": "code",
      "execution_count": 16,
      "metadata": {},
      "outputs": [
        {
          "name": "stdout",
          "output_type": "stream",
          "text": [
            "<class 'pandas.core.frame.DataFrame'>\n",
            "RangeIndex: 10000 entries, 0 to 9999\n",
            "Data columns (total 14 columns):\n",
            " #   Column           Non-Null Count  Dtype  \n",
            "---  ------           --------------  -----  \n",
            " 0   RowNumber        10000 non-null  int64  \n",
            " 1   CustomerId       10000 non-null  int64  \n",
            " 2   Surname          10000 non-null  object \n",
            " 3   CreditScore      10000 non-null  int64  \n",
            " 4   Geography        10000 non-null  object \n",
            " 5   Gender           10000 non-null  object \n",
            " 6   Age              10000 non-null  float64\n",
            " 7   Tenure           10000 non-null  int64  \n",
            " 8   Balance          10000 non-null  float64\n",
            " 9   NumOfProducts    9999 non-null   float64\n",
            " 10  HasCrCard        9998 non-null   float64\n",
            " 11  IsActiveMember   10000 non-null  int64  \n",
            " 12  EstimatedSalary  10000 non-null  float64\n",
            " 13  Exited           10000 non-null  int64  \n",
            "dtypes: float64(5), int64(6), object(3)\n",
            "memory usage: 1.1+ MB\n"
          ]
        }
      ],
      "source": [
        "updated_df = df\n",
        "updated_df['Gender']=updated_df['Gender'].fillna(updated_df['Gender'].mode()[0])\n",
        "# updated_df.info()\n",
        "updated_df1.info()"
      ]
    }
  ],
  "metadata": {
    "colab": {
      "provenance": []
    },
    "kernelspec": {
      "display_name": "base",
      "language": "python",
      "name": "python3"
    },
    "language_info": {
      "codemirror_mode": {
        "name": "ipython",
        "version": 3
      },
      "file_extension": ".py",
      "mimetype": "text/x-python",
      "name": "python",
      "nbconvert_exporter": "python",
      "pygments_lexer": "ipython3",
      "version": "3.11.7"
    }
  },
  "nbformat": 4,
  "nbformat_minor": 0
}
